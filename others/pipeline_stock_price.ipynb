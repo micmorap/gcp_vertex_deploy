{
 "cells": [
  {
   "cell_type": "code",
   "execution_count": 17,
   "id": "b323c1a4-7086-4c9f-9c0e-bd4998bf691d",
   "metadata": {
    "tags": []
   },
   "outputs": [],
   "source": [
    "# Install packages\n",
    "import kfp\n",
    "from google.cloud import aiplatform\n",
    "from kfp.v2 import dsl, compiler\n",
    "from kfp.v2.dsl import (Artifact, Dataset, Input, InputPath, Model, Output, OutputPath, component, importer)\n",
    "from typing import NamedTuple\n",
    "from google.cloud import storage\n",
    "import pandas as pd\n",
    "import gcsfs\n"
   ]
  },
  {
   "cell_type": "code",
   "execution_count": 18,
   "id": "3cdf18e3-3f5c-4348-a86f-623635e30320",
   "metadata": {
    "tags": []
   },
   "outputs": [],
   "source": [
    "PROJECT_ID = \"datapath-deploy-api-v1-434102\"  # @param {type:\"string\"}\n",
    "LOCATION = \"us-central1\"  # @param {type:\"string\"}\n",
    "BUCKET_URI = f\"gs://demo_vertext_01\"  # @param {type:\"string\"}\n",
    "SERVICE_ACCOUNT = \"dev-mlops-vertex@datapath-deploy-api-v1-434102.iam.gserviceaccount.com\""
   ]
  },
  {
   "cell_type": "code",
   "execution_count": 19,
   "id": "88339021-1f94-497c-916c-f330857f4cb3",
   "metadata": {
    "tags": []
   },
   "outputs": [],
   "source": [
    "# ! gsutil mb -l {LOCATION} -p {PROJECT_ID} {BUCKET_URI}\n",
    "PIPELINE_ROOT = \"{}/output_info\".format(BUCKET_URI)"
   ]
  },
  {
   "cell_type": "code",
   "execution_count": 20,
   "id": "2f7f91e7-5563-4e0b-89eb-d221ee08e9c3",
   "metadata": {
    "tags": []
   },
   "outputs": [],
   "source": [
    "aiplatform.init(project=PROJECT_ID, staging_bucket=BUCKET_URI)"
   ]
  },
  {
   "cell_type": "markdown",
   "id": "90c56661-a9a1-4435-8820-7b259b6c1313",
   "metadata": {
    "tags": []
   },
   "source": [
    "##### Preprocess data"
   ]
  },
  {
   "cell_type": "code",
   "execution_count": 33,
   "id": "5b5a8c04-cad1-46c0-bc1d-9a57c563c6aa",
   "metadata": {
    "tags": []
   },
   "outputs": [],
   "source": [
    "# @component(base_image=\"python:3.9\") #, packages_to_install=[\"pandas\", \"google-cloud-storage\"])\n",
    "@component(base_image=\"python:3.9\", packages_to_install=[\"pandas\", \"google-cloud-storage\", \"gcsfs\"])\n",
    "def preprocess_data(\n",
    "    input_csv_path: str,\n",
    "    output_folder_path: str,\n",
    "    output_csv_name: str,\n",
    "#    gcs_bucket_name: str,\n",
    "#    gcs_blob_name: str,\n",
    "#    output_dataset_path: OutputPath(\"Dataset\")\n",
    "    \n",
    "):\n",
    "    \"\"\"\n",
    "    Preprocessing step that downloads a CSV from GCS, processes it, and outputs the result.\n",
    "    \"\"\"\n",
    "    #from google.cloud import storage\n",
    "    #import pandas as pd\n",
    "    \n",
    "    # Inicializa el cliente de GCS\n",
    "    #client = storage.Client()\n",
    "    #bucket = client.get_bucket(gcs_bucket_name)\n",
    "    #blob = bucket.blob(gcs_blob_name)\n",
    "\n",
    "    #local_csv_path = \"/tmp/ISA_Historical_Info_2002_2024.csv\"\n",
    "    #blob.download_to_filename(local_csv_path)\n",
    "    #print(f\"Downloaded {gcs_blob_name} from bucket {gcs_bucket_name} to {local_csv_path}\")\n",
    "    \n",
    "    # Lee el CSV usando pandas\n",
    "    #df = pd.read_csv(local_csv_path)    \n",
    "\n",
    "    # Escribe el dataset procesado como CSV en la salida\n",
    "    #df.to_csv(output_dataset_path, index=False)\n",
    "    #print(f\"Processed dataset saved to {output_dataset_path}\")\n",
    "    \n",
    "    # Crear un sistema de archivos GCS\n",
    "    import pandas as pd\n",
    "    import gcsfs\n",
    "    \n",
    "    fs = gcsfs.GCSFileSystem()\n",
    "\n",
    "    # Leer el archivo CSV desde GCS\n",
    "    with fs.open(input_csv_path) as f:\n",
    "        df = pd.read_csv(f, sep=\",\")\n",
    "        print(df.head())\n",
    "\n",
    "    # Crear la ruta completa del archivo de salida\n",
    "    output_csv_path = f\"{output_folder_path}/{output_csv_name}\"\n",
    "\n",
    "    # Guardar el DataFrame procesado en un nuevo archivo CSV en GCS\n",
    "    with fs.open(output_csv_path, 'w') as f:\n",
    "        df.to_csv(f, index=False)\n",
    "    \n",
    "    print(f\"Archivo procesado guardado en: {output_csv_path}\")        \n",
    "        "
   ]
  },
  {
   "cell_type": "markdown",
   "id": "1eb0e855-9e2d-4b0e-924e-4edb12f81ce9",
   "metadata": {},
   "source": [
    "#### Definir un pipeline de test"
   ]
  },
  {
   "cell_type": "code",
   "execution_count": 34,
   "id": "133dda14-a6bf-45fb-9eca-814de69c1dcf",
   "metadata": {
    "tags": []
   },
   "outputs": [],
   "source": [
    "@dsl.pipeline(\n",
    "    name=\"test-pipeline-2\",\n",
    "    pipeline_root=PIPELINE_ROOT\n",
    ")\n",
    "def csv_preprocessing_pipeline(\n",
    "    project: str = \"datapath-deploy-api-v1-434102\",\n",
    "    gcp_region: str = \"us-central1\"):\n",
    "    \n",
    "    # Definimos una ruta de salida en el bucket de GCS para el dataset procesado\n",
    "    # output_path = \"gs://demo_vertext_01/output_info/processed_data.csv\"\n",
    "\n",
    "    preprocess_task = preprocess_data(\n",
    "       input_csv_path=\"gs://demo_vertext_01/raw_info/ISA_Historical_Info_2002_2024.csv\",\n",
    "       output_folder_path = \"gs://demo_vertext_01/output_info\",\n",
    "       output_csv_name = \"processed_ISA_Historical_Info_2002_2024.csv\"\n",
    "        # output_dataset_path=output_path  # Este valor será gestionado automáticamente por KFP\n",
    "    )\n"
   ]
  },
  {
   "cell_type": "markdown",
   "id": "a43f2596-7ede-4d5e-80bd-8a6b0d342996",
   "metadata": {},
   "source": [
    "#### Compilar el pipeline de test:"
   ]
  },
  {
   "cell_type": "code",
   "execution_count": 35,
   "id": "2f339b89-580c-46ac-adef-dcf8f8d44bec",
   "metadata": {
    "tags": []
   },
   "outputs": [
    {
     "name": "stderr",
     "output_type": "stream",
     "text": [
      "/opt/conda/envs/dev/lib/python3.8/site-packages/kfp/v2/compiler/compiler.py:1290: FutureWarning: APIs imported from the v1 namespace (e.g. kfp.dsl, kfp.components, etc) will not be supported by the v2 compiler since v2.0.0\n",
      "  warnings.warn(\n"
     ]
    }
   ],
   "source": [
    "compiler.Compiler().compile(\n",
    "    pipeline_func = csv_preprocessing_pipeline,\n",
    "    package_path = \"pipeline_demo_test_2.json\"\n",
    ")"
   ]
  },
  {
   "cell_type": "markdown",
   "id": "6ffb8560-6641-43f7-894d-1257db105937",
   "metadata": {},
   "source": [
    "#### Run the pipeline"
   ]
  },
  {
   "cell_type": "code",
   "execution_count": 36,
   "id": "45688141-cd95-4390-a2d5-8da06ffbb12d",
   "metadata": {
    "tags": []
   },
   "outputs": [
    {
     "name": "stdout",
     "output_type": "stream",
     "text": [
      "submit pipeline job ....\n",
      "Creating PipelineJob\n",
      "PipelineJob created. Resource name: projects/172483762390/locations/us-central1/pipelineJobs/test-pipeline-2-20241015224752\n",
      "To use this PipelineJob in another session:\n",
      "pipeline_job = aiplatform.PipelineJob.get('projects/172483762390/locations/us-central1/pipelineJobs/test-pipeline-2-20241015224752')\n",
      "View Pipeline Job:\n",
      "https://console.cloud.google.com/vertex-ai/locations/us-central1/pipelines/runs/test-pipeline-2-20241015224752?project=172483762390\n"
     ]
    }
   ],
   "source": [
    "aiplatform.init(project = \"datapath-deploy-api-v1-434102\", location = \"us-central1\")\n",
    "\n",
    "job = aiplatform.PipelineJob(\n",
    "    display_name =\"test-pipeline-job\",\n",
    "    template_path = \"pipeline_demo_test_2.json\",\n",
    "    pipeline_root = PIPELINE_ROOT,\n",
    "    enable_caching = False,\n",
    "    project = \"datapath-deploy-api-v1-434102\",\n",
    "    location = \"us-central1\"\n",
    "    )\n",
    "\n",
    "print(\"submit pipeline job ....\")\n",
    "job.submit(\"dev-mlops-vertex@datapath-deploy-api-v1-434102.iam.gserviceaccount.com\")\n"
   ]
  },
  {
   "cell_type": "code",
   "execution_count": null,
   "id": "d08974c7-221b-452a-a56c-e3a678d93c18",
   "metadata": {},
   "outputs": [],
   "source": []
  }
 ],
 "metadata": {
  "environment": {
   "kernel": "dev",
   "name": "common-cpu.m125",
   "type": "gcloud",
   "uri": "us-docker.pkg.dev/deeplearning-platform-release/gcr.io/base-cpu:m125"
  },
  "kernelspec": {
   "display_name": "Python 3.8 (dev) (Local)",
   "language": "python",
   "name": "dev"
  },
  "language_info": {
   "codemirror_mode": {
    "name": "ipython",
    "version": 3
   },
   "file_extension": ".py",
   "mimetype": "text/x-python",
   "name": "python",
   "nbconvert_exporter": "python",
   "pygments_lexer": "ipython3",
   "version": "3.8.20"
  }
 },
 "nbformat": 4,
 "nbformat_minor": 5
}
