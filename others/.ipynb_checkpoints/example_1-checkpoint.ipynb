{
 "cells": [
  {
   "cell_type": "code",
   "execution_count": 1,
   "id": "1fa0a2d6-6015-4b3f-8638-61e7f660af0b",
   "metadata": {
    "tags": []
   },
   "outputs": [],
   "source": [
    "import kfp\n",
    "from google.cloud import aiplatform\n",
    "from kfp.v2 import dsl, compiler\n",
    "from kfp.v2.dsl import component\n",
    "from typing import NamedTuple\n"
   ]
  },
  {
   "cell_type": "code",
   "execution_count": null,
   "id": "9c825b6a-c2d9-47e6-90ce-7ea7248befe0",
   "metadata": {},
   "outputs": [],
   "source": [
    "@component(base_image=\"python:3.9\")\n",
    "def product_name(text: str) -> str:\n",
    "    return text"
   ]
  },
  {
   "cell_type": "code",
   "execution_count": null,
   "id": "88cd7eb8-9974-4b2e-9671-d01f197da04b",
   "metadata": {},
   "outputs": [],
   "source": [
    "@component(packages_to_install=['emoji'])\n",
    "def emoji(text: str) -> NamedTuple(\n",
    "    \"Outputs\", [\n",
    "        (\"emoji_text\", str),\n",
    "        (\"emoji\", str),        \n",
    "    ]\n",
    "):\n",
    "    import emoji\n",
    "    emoji_test = text\n",
    "    emoji_str = emoji.emojize(':' + emoji_test + ':', language = \"alias\")\n",
    "    print(\"output one {}, output two {}\").format(emoji_test, emoji_str)\n",
    "    "
   ]
  },
  {
   "cell_type": "code",
   "execution_count": null,
   "id": "2561857e-391a-4cf0-9093-4e65b756e180",
   "metadata": {},
   "outputs": [],
   "source": [
    "@component\n",
    "def build_sentence(\n",
    "    product: str,\n",
    "    emoji: str,\n",
    "    emojitext: str\n",
    ") -> str:\n",
    "    print(\"complete pipeline\")\n",
    "    end_str = product + \"is\"\n",
    "    if len(emoji) > 0:\n",
    "        end_str += emoji \n",
    "    else:\n",
    "        end_str += emojitext\n",
    "        \n",
    "    return end_str"
   ]
  },
  {
   "cell_type": "code",
   "execution_count": null,
   "id": "5fa45c98-1430-41fe-bd94-6369bd933dd5",
   "metadata": {},
   "outputs": [],
   "source": [
    "@kfp.dsl.pipeline(\n",
    "    name=\"intro\",\n",
    "    description=\"intro\",\n",
    "    pipeline_root=\"gs://demo_vertex_01/pipeline_demo.json\"\n",
    ")\n",
    "\n",
    "def main_pipeline(\n",
    "    project: str = \"datapath-deploy-api-v1-434102\",\n",
    "    gcp_region: str = \"us-central1\",\n",
    "    text: str = \"Vertex pipelines\",\n",
    "    emoji_str: str = \"sparkles\"\n",
    "):\n",
    "    product_task = product_name(text = text)\n",
    "    emoji_task = emoji(text = emoji_str)\n",
    "    \n",
    "    consumers_task = build_sentence(\n",
    "        product = product_task.output,\n",
    "        emoji = emoji_task.outputs[\"emoji\"],\n",
    "        emojitext = emoji_task.outputs[\"emoji_text\"]\n",
    "    )"
   ]
  },
  {
   "cell_type": "code",
   "execution_count": null,
   "id": "17eed03d-3204-4649-aad9-7b4fd6f7e232",
   "metadata": {},
   "outputs": [],
   "source": [
    "compiler.Compiler().compile(\n",
    "    pipeline_func = main_pipeline,\n",
    "    package_path = \"pipeline_demo.json\"\n",
    ")"
   ]
  },
  {
   "cell_type": "code",
   "execution_count": null,
   "id": "76722913-64cb-4e9a-a205-6c259f67e65c",
   "metadata": {},
   "outputs": [],
   "source": [
    "aiplatform.init(project = \"datapath-deploy-api-v1-434102\", location = \"us-central1\")\n",
    "\n",
    "job = aiplatform.PipelineJob(\n",
    "    display_name =\"prueba pipeline\",\n",
    "    template_path = \"pipeline_demo.json\",\n",
    "    enable_caching = False,\n",
    "    project = \"datapath-deploy-api-v1-434102\",\n",
    "    location = \"us-central1\"\n",
    "    \n",
    "    )\n",
    "\n",
    "print(\"submit pipeline job ....\")\n",
    "job.submit(\"dev-mlops-vertex@datapath-deploy-api-v1-434102.iam.gserviceaccount.com\")\n"
   ]
  },
  {
   "cell_type": "code",
   "execution_count": null,
   "id": "2eae6bec-e840-4d40-a756-2b1c56f94e4e",
   "metadata": {},
   "outputs": [],
   "source": [
    "# https://stackoverflow.com/questions/72716087/where-does-kubeflow-pipeline-look-for-packages-in-packages-to-install\n",
    "PyYAML\n",
    "pytz\n",
    "fire\n",
    "yq\n",
    "nbconvert==6.4.5\n",
    "jupyter-client==7.2.0\n",
    "ipython\n",
    "packaging\n",
    " \n",
    "google-cloud-aiplatform==1.18.0\n",
    "kfp==1.8.21\n",
    "google-cloud-pipeline-components==1.0.24\n",
    "google-cloud-storage\n",
    "google-auth"
   ]
  }
 ],
 "metadata": {
  "environment": {
   "kernel": "dev",
   "name": "common-cpu.m125",
   "type": "gcloud",
   "uri": "us-docker.pkg.dev/deeplearning-platform-release/gcr.io/base-cpu:m125"
  },
  "kernelspec": {
   "display_name": "Python 3.8 (dev) (Local)",
   "language": "python",
   "name": "dev"
  },
  "language_info": {
   "codemirror_mode": {
    "name": "ipython",
    "version": 3
   },
   "file_extension": ".py",
   "mimetype": "text/x-python",
   "name": "python",
   "nbconvert_exporter": "python",
   "pygments_lexer": "ipython3",
   "version": "3.8.20"
  }
 },
 "nbformat": 4,
 "nbformat_minor": 5
}
